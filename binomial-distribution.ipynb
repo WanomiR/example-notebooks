{
 "cells": [
  {
   "cell_type": "code",
   "execution_count": 1,
   "id": "42ff4b4c-6e49-4ea0-bc31-c38a30b3c20b",
   "metadata": {},
   "outputs": [],
   "source": [
    "import numpy as np\n",
    "import pandas as pd\n",
    "from matplotlib import pyplot as plt\n",
    "from math import factorial\n",
    "\n",
    "np.random.seed(42);"
   ]
  },
  {
   "cell_type": "markdown",
   "id": "54a0f100-e972-4799-9a24-76a4625bd79a",
   "metadata": {},
   "source": [
    "### What is Binomial Distribution"
   ]
  },
  {
   "cell_type": "markdown",
   "id": "cb06df24-fe9e-42bd-800e-e21f3e8e8d5d",
   "metadata": {},
   "source": [
    "Binomial distribution tells us how likely, knowing the probability of success $p$,\n",
    "we will get a certain amount of successes $k$ out of $N$ trials.\n"
   ]
  },
  {
   "cell_type": "code",
   "execution_count": 2,
   "id": "4db35922-c0cc-43e3-9236-40d544800281",
   "metadata": {},
   "outputs": [],
   "source": [
    "p = 0.9;  # probability of success\n",
    "N = 7;  # number of trials"
   ]
  },
  {
   "cell_type": "markdown",
   "id": "3c05e10f-c868-4d9a-827e-0932dcc0a45a",
   "metadata": {},
   "source": [
    "### Estimate by formula"
   ]
  },
  {
   "cell_type": "markdown",
   "id": "16da3dcd-50fd-49be-9193-f32f498d0008",
   "metadata": {},
   "source": [
    "Probability mass function for Binomial Distribution:\n",
    "$$p_X(k) = P(X = k) = C^k_n p^k(1-p)^{n-k},\\ \\ k\\in \\{0,1,...,n \\}$$\n",
    "\n",
    "Formula for calculating combinations:\n",
    "$$C^k_n = \\dfrac{ n^{\\underline{k}} }{k! } = \\dfrac{n!}{(n-k)! \\cdot k!}$$"
   ]
  },
  {
   "cell_type": "code",
   "execution_count": 3,
   "id": "66986bfa-b541-449e-8ad4-a8bdaf0aa3ea",
   "metadata": {},
   "outputs": [
    {
     "data": {
      "image/png": "[encoded data removed]",
      "text/plain": [
       "<Figure size 640x480 with 1 Axes>"
      ]
     },
     "metadata": {},
     "output_type": "display_data"
    }
   ],
   "source": [
    "probs = {};\n",
    "\n",
    "for k in range(N + 1):\n",
    "    choose = factorial(N) / (factorial(k) * factorial(N - k));  # calculating choose k out of N combinations\n",
    "    prob = choose * p**k * (1 - p)**(N - k);  # calculating probability value for k\n",
    "    probs[k] = prob;  \n",
    "\n",
    "plt.bar(probs.keys(), probs.values());"
   ]
  },
  {
   "cell_type": "code",
   "execution_count": 4,
   "id": "ab991f01-6666-49d3-b92d-39e6dfc3963a",
   "metadata": {},
   "outputs": [
    {
     "data": {
      "text/plain": [
       "0    0.0000\n",
       "1    0.0000\n",
       "2    0.0002\n",
       "3    0.0026\n",
       "4    0.0230\n",
       "5    0.1240\n",
       "6    0.3720\n",
       "7    0.4783\n",
       "dtype: float64"
      ]
     },
     "metadata": {},
     "output_type": "display_data"
    }
   ],
   "source": [
    "display(pd.Series(probs).round(4));"
   ]
  },
  {
   "cell_type": "markdown",
   "id": "ec954e7c-c06f-42cc-9dd0-c4b1a5f6b8b8",
   "metadata": {},
   "source": [
    "### Run an actual experiment"
   ]
  },
  {
   "cell_type": "code",
   "execution_count": 5,
   "id": "65c721df-b7b9-415c-a011-a9211426dc4b",
   "metadata": {},
   "outputs": [
    {
     "data": {
      "text/plain": [
       "True"
      ]
     },
     "execution_count": 5,
     "metadata": {},
     "output_type": "execute_result"
    }
   ],
   "source": [
    "# function for \"flipping a coin\"\n",
    "make_trial = lambda: np.random.random() < p;\n",
    "make_trial()"
   ]
  },
  {
   "cell_type": "code",
   "execution_count": 6,
   "id": "ceee538c-19e8-45d6-b7d6-3caf90680057",
   "metadata": {},
   "outputs": [
    {
     "data": {
      "text/plain": [
       "6"
      ]
     },
     "execution_count": 6,
     "metadata": {},
     "output_type": "execute_result"
    }
   ],
   "source": [
    "# function for conducting one experiment\n",
    "def conduct_experiment(N):\n",
    "    trials = [];\n",
    "    \n",
    "    # make N trials (flip the coin N times)\n",
    "    for i in range(N):\n",
    "        trial_result = make_trial();\n",
    "        trials.append(trial_result);\n",
    "        \n",
    "    # return the total amount of successes out of N trials\n",
    "    return sum(trials);\n",
    "\n",
    "conduct_experiment(N)"
   ]
  },
  {
   "cell_type": "code",
   "execution_count": 7,
   "id": "ed69190b-8811-4e44-9310-e26de63b352d",
   "metadata": {},
   "outputs": [
    {
     "data": {
      "image/png": "[encoded data removed]",
      "text/plain": [
       "<Figure size 640x480 with 1 Axes>"
      ]
     },
     "metadata": {},
     "output_type": "display_data"
    }
   ],
   "source": [
    "# decide on number of experiments\n",
    "N_exp = 10000;\n",
    "exp_results = [];\n",
    "\n",
    "# run an experiment specified number of times\n",
    "for i in range(N_exp):\n",
    "    exp_result = conduct_experiment(N);\n",
    "    exp_results.append(exp_result);\n",
    "\n",
    "# summarize the results of all experiments, similar to `value_counts` in pandas\n",
    "labels, counts = np.unique(exp_results, return_counts=True)\n",
    "counts = counts / np.sum(counts)  # convert counts to probabilities\n",
    "\n",
    "plt.bar(labels, counts);"
   ]
  },
  {
   "cell_type": "code",
   "execution_count": null,
   "id": "e0f19212-18ee-48d7-9d6a-0ecf4fc4cb10",
   "metadata": {},
   "outputs": [],
   "source": []
  }
 ],
 "metadata": {
  "kernelspec": {
   "display_name": "Python 3.11 (default)",
   "language": "python",
   "name": "default"
  },
  "language_info": {
   "codemirror_mode": {
    "name": "ipython",
    "version": 3
   },
   "file_extension": ".py",
   "mimetype": "text/x-python",
   "name": "python",
   "nbconvert_exporter": "python",
   "pygments_lexer": "ipython3",
   "version": "3.10.13"
  }
 },
 "nbformat": 4,
 "nbformat_minor": 5
}
