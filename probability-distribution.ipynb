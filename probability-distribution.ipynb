{
 "cells": [
  {
   "cell_type": "code",
   "execution_count": 1,
   "id": "d7efb425-c962-4925-aede-8e93b73a32c6",
   "metadata": {},
   "outputs": [],
   "source": [
    "import numpy as np"
   ]
  },
  {
   "cell_type": "code",
   "execution_count": 2,
   "id": "30583ba2-d3f9-421e-bb17-8861a36c3540",
   "metadata": {},
   "outputs": [],
   "source": [
    "spots = np.array(\n",
    "    [\n",
    "        [2, 3, 4, 5, 6, 7],\n",
    "        [3, 4, 5, 6, 7, 8],\n",
    "        [4, 5, 6, 7, 8, 9],\n",
    "        [5, 6, 7, 8, 9, 10],\n",
    "        [6, 7, 8, 9, 10, 11],\n",
    "        [7, 8, 9, 10, 11, 12],\n",
    "    ]\n",
    ")"
   ]
  },
  {
   "cell_type": "code",
   "execution_count": 38,
   "id": "caa9fefb-9fe2-4cfa-b827-8487f92ba7c7",
   "metadata": {},
   "outputs": [
    {
     "data": {
      "text/plain": [
       "{}"
      ]
     },
     "execution_count": 38,
     "metadata": {},
     "output_type": "execute_result"
    }
   ],
   "source": [
    "spot_counts = {}\n",
    "spot_counts"
   ]
  },
  {
   "cell_type": "code",
   "execution_count": 39,
   "id": "fe9cd714-3a59-4211-86ac-eea882ffb986",
   "metadata": {},
   "outputs": [],
   "source": [
    "spots_array = [2, 3, 4, 2, 3, 6]\n",
    "\n",
    "for n in spots_array:\n",
    "    if n not in spot_counts.keys():\n",
    "        spot_counts[n] = 1\n",
    "    else:\n",
    "        spot_counts[n] += 1"
   ]
  },
  {
   "cell_type": "code",
   "execution_count": 40,
   "id": "660dee5f-2e3e-4650-8596-a89947b16ee3",
   "metadata": {},
   "outputs": [
    {
     "data": {
      "text/plain": [
       "{2: 2, 3: 2, 4: 1, 6: 1}"
      ]
     },
     "execution_count": 40,
     "metadata": {},
     "output_type": "execute_result"
    }
   ],
   "source": [
    "spot_counts"
   ]
  },
  {
   "cell_type": "code",
   "execution_count": null,
   "id": "e710b313-504f-4430-ad1f-b328d26b8f36",
   "metadata": {},
   "outputs": [],
   "source": []
  }
 ],
 "metadata": {
  "kernelspec": {
   "display_name": "Python 3.11 (default)",
   "language": "python",
   "name": "default"
  },
  "language_info": {
   "codemirror_mode": {
    "name": "ipython",
    "version": 3
   },
   "file_extension": ".py",
   "mimetype": "text/x-python",
   "name": "python",
   "nbconvert_exporter": "python",
   "pygments_lexer": "ipython3",
   "version": "3.10.13"
  }
 },
 "nbformat": 4,
 "nbformat_minor": 5
}
