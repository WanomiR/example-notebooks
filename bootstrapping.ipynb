{
 "cells": [
  {
   "cell_type": "markdown",
   "id": "b8820480-de82-4933-910c-ca6d52ab8eaa",
   "metadata": {},
   "source": [
    "### Setup"
   ]
  },
  {
   "cell_type": "code",
   "execution_count": 1,
   "id": "aa87f3cc-cbfe-4a6e-99b9-4f14cc537b0b",
   "metadata": {},
   "outputs": [],
   "source": [
    "import numpy as np\n",
    "import pandas as pd\n",
    "from scipy import stats\n",
    "from matplotlib import pyplot as plt\n",
    "\n",
    "random_seed = 2_147_483_647\n",
    "np.random.seed(random_seed)"
   ]
  },
  {
   "cell_type": "markdown",
   "id": "785b7796-2f93-448f-bfb2-f9422114a37c",
   "metadata": {},
   "source": [
    "### Confidence interval estimation"
   ]
  },
  {
   "cell_type": "markdown",
   "id": "a84d9077-9dad-4a2c-88be-acef0bed5cb7",
   "metadata": {},
   "source": [
    "$1 - \\alpha$ confidence interval formula:\n",
    "$$\\bigg(\\bar{x}_n - z_{1-\\alpha/2} \\cdot \\frac{\\sigma}{\\sqrt{n}}, \\bar{x}_n + z_{1-\\alpha/2} \\cdot \\frac{\\sigma}{\\sqrt{n}}\\bigg) $$\n",
    "where:\n",
    "- $z_{1 -\\alpha / 2}$﻿ — noromal distribution quantile,\n",
    "- $\\alpha$﻿ — level of confidence,\n",
    "- $\\bar{x}_n$﻿ — sample mean.\n",
    "\n",
    "The recommended number of bootstrap iterations usually falls in the range between $1 000$ and $10 000$.\n",
    "To get an unbiased statistic estimation, the size of the bootstrap sample has to be equal to that of the original sample.  "
   ]
  },
  {
   "cell_type": "code",
   "execution_count": 2,
   "id": "e5e61c94-0065-476e-b13b-5c890b8a88eb",
   "metadata": {},
   "outputs": [
    {
     "name": "stdout",
     "output_type": "stream",
     "text": [
      "With 95% probability the median value would be between: ( 50.236827523296576 , 50.31146674189855 )\n"
     ]
    }
   ],
   "source": [
    "# read the data\n",
    "times = pd.read_csv(\n",
    "    'https://code.s3.yandex.net/Math/datasets/Times.csv', \n",
    "    header=None).values.flatten().tolist()\n",
    "\n",
    "# experiment parameters\n",
    "n = len(times)\n",
    "k = 1500\n",
    "alpha = 0.05\n",
    "q = 1 - alpha / 2  # q for quantile\n",
    "\n",
    "# generate normal distribution\n",
    "Z = stats.norm(loc=0, scale=1)\n",
    "z = Z.ppf(q=q)  # calculate z-statistic\n",
    "\n",
    "bootstrap_medians = []\n",
    "\n",
    "i = 0\n",
    "while i < k:\n",
    "    bootstrap_values = np.random.choice(times, size=n, replace=True)\n",
    "    bootstrap_medians.append(np.median(bootstrap_values))\n",
    "    i += 1\n",
    "    \n",
    "me_mean = np.mean(bootstrap_medians)\n",
    "me_std = np.std(bootstrap_medians)\n",
    "\n",
    "me_left = me_mean - z * me_std / np.sqrt(k)\n",
    "me_right = me_mean + z * me_std / np.sqrt(k)\n",
    "\n",
    "print(\"With 95% probability the median value would be between: (\", me_left, \",\", me_right, \")\")"
   ]
  },
  {
   "cell_type": "markdown",
   "id": "f0ebadd7-dae3-4963-a182-bbfe3601c81c",
   "metadata": {},
   "source": [
    "### Percentile confidence interval"
   ]
  },
  {
   "cell_type": "markdown",
   "id": "e7db35fb-ad09-4542-a1cd-a4036011c23c",
   "metadata": {},
   "source": [
    "estimation technique is used when the variable has a non-symmetrical distribution. \n",
    "\n",
    "The **algorithm for calculating the percentile confidence interval** goes as follows:\n",
    "1. Generate a set of statistics using bootstrap, **sort it in ascending order**.\n",
    "2. Calculate the values\n",
    "    \n",
    "    $i = \\bigg[\\frac{\\alpha}{2} \\cdot k\\bigg], \\ j = \\bigg[\\Big(1 - \\frac{\\alpha}{2}\\Big) \\cdot k\\bigg]$\n",
    "    \n",
    "    where $k$﻿ is the number of generated bootstrap samples and $[x]$﻿ is the integer part of $x$﻿.\n",
    "    \n",
    "3. Select values form the sorted sample of generated statistics with indices from $i$﻿ to $j$﻿.\n",
    "    \n",
    "    The resulting sample is called **percentile confidence interval** with the confidence level of $1 - \\alpha$﻿.\n",
    "\n",
    "\n",
    "> This technique can produce bad results when original distribution has complex distribution function. For instance, double summit distribution."
   ]
  },
  {
   "cell_type": "code",
   "execution_count": 3,
   "id": "c9aa49b6-1654-4bcf-8bae-b74841d52bc6",
   "metadata": {},
   "outputs": [
    {
     "data": {
      "image/png": "[encoded data removed]",
      "text/plain": [
       "<Figure size 640x480 with 1 Axes>"
      ]
     },
     "metadata": {},
     "output_type": "display_data"
    }
   ],
   "source": [
    "# experiment parameters\n",
    "n = len(times)\n",
    "k = 1500\n",
    "alpha = 0.05\n",
    "\n",
    "bootstrap_medians = []\n",
    "\n",
    "i = 0\n",
    "while i < k:\n",
    "    bootstrap_values = np.random.choice(times, size=n, replace=True)\n",
    "    bootstrap_medians.append(np.median(bootstrap_values))\n",
    "    i += 1\n",
    "    \n",
    "bootstrap_medians = sorted(bootstrap_medians)\n",
    "\n",
    "left = int(alpha / 2 * k)\n",
    "right = int((1 - alpha / 2) * k)\n",
    "x1 = bootstrap_medians[left]\n",
    "x2 = bootstrap_medians[right]\n",
    "\n",
    "plt.hlines(y=0.005, xmin=x1, xmax=x2, linewidth=2, color='r')\n",
    "plt.hist(bootstrap_medians, density=True, bins=20)\n",
    "plt.show()"
   ]
  },
  {
   "cell_type": "code",
   "execution_count": null,
   "id": "083d2c74-c133-4b53-bd7f-922be8f3c985",
   "metadata": {},
   "outputs": [],
   "source": []
  }
 ],
 "metadata": {
  "kernelspec": {
   "display_name": "Python 3.11 (default)",
   "language": "python",
   "name": "default"
  },
  "language_info": {
   "codemirror_mode": {
    "name": "ipython",
    "version": 3
   },
   "file_extension": ".py",
   "mimetype": "text/x-python",
   "name": "python",
   "nbconvert_exporter": "python",
   "pygments_lexer": "ipython3",
   "version": "3.10.13"
  }
 },
 "nbformat": 4,
 "nbformat_minor": 5
}
